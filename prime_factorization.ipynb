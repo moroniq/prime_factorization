{
 "cells": [
  {
   "cell_type": "code",
   "execution_count": null,
   "id": "dc13ae6e-5c56-42af-9b15-fb44dcac7bd9",
   "metadata": {},
   "outputs": [],
   "source": [
    "#Prime Factorization - Have the user enter a number and find all Prime Factors (if there are any) and display them."
   ]
  },
  {
   "cell_type": "code",
   "execution_count": 23,
   "id": "9179e479-8af4-4b8f-8fd1-bd45fde7394d",
   "metadata": {},
   "outputs": [],
   "source": [
    "def prime_factorization():\n",
    "    try:\n",
    "        x = int(input(\"Give a number: \"))\n",
    "        prime_list = []\n",
    "        i = 2\n",
    "        while x > 1: \n",
    "            if x % i ==0:\n",
    "                prime_list.append(i)\n",
    "                x = x//i\n",
    "            else:\n",
    "                i += 1\n",
    "    except ValueError:\n",
    "        print(\"Please enter a valid integer.\")\n",
    "    finally: \n",
    "        print(f\"Prime factors are: {prime_list}\")"
   ]
  },
  {
   "cell_type": "code",
   "execution_count": 25,
   "id": "628209fc-1586-4ded-bbfb-c5492e3e674b",
   "metadata": {},
   "outputs": [
    {
     "name": "stdin",
     "output_type": "stream",
     "text": [
      "Give a number:  3090\n"
     ]
    },
    {
     "name": "stdout",
     "output_type": "stream",
     "text": [
      "Prime factors are: [2, 3, 5, 103]\n"
     ]
    }
   ],
   "source": [
    "prime_factorization()"
   ]
  },
  {
   "cell_type": "code",
   "execution_count": null,
   "id": "60f38cf2-05fa-4346-9534-8bedb3af0c1e",
   "metadata": {},
   "outputs": [],
   "source": []
  }
 ],
 "metadata": {
  "kernelspec": {
   "display_name": "Python [conda env:base] *",
   "language": "python",
   "name": "conda-base-py"
  },
  "language_info": {
   "codemirror_mode": {
    "name": "ipython",
    "version": 3
   },
   "file_extension": ".py",
   "mimetype": "text/x-python",
   "name": "python",
   "nbconvert_exporter": "python",
   "pygments_lexer": "ipython3",
   "version": "3.12.7"
  }
 },
 "nbformat": 4,
 "nbformat_minor": 5
}
