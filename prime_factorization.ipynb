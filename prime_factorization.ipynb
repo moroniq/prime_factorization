{
 "cells": [
  {
   "cell_type": "code",
   "execution_count": null,
   "id": "dc13ae6e-5c56-42af-9b15-fb44dcac7bd9",
   "metadata": {},
   "outputs": [],
   "source": [
    "#Prime Factorization - Have the user enter a number and find all Prime Factors (if there are any) and display them."
   ]
  },
  {
   "cell_type": "code",
   "execution_count": 23,
   "id": "9179e479-8af4-4b8f-8fd1-bd45fde7394d",
   "metadata": {},
   "outputs": [],
   "source": [
    "def prime_factorization():\n",
    "    try:\n",
    "        x = int(input(\"Give a number: \"))\n",
    "        prime_list = []\n",
    "        i = 2\n",
    "        while x > 1: \n",
    "            if x % i ==0:\n",
    "                prime_list.append(i)\n",
    "                x = x//i\n",
    "            else:\n",
    "                i += 1\n",
    "    except ValueError:\n",
    "        print(\"Please enter a valid integer.\")\n",
    "    finally: \n",
    "        print(f\"Prime factors are: {prime_list}\")"
   ]
  },
  {
   "cell_type": "code",
   "execution_count": 25,
   "id": "628209fc-1586-4ded-bbfb-c5492e3e674b",
   "metadata": {},
   "outputs": [
    {
     "name": "stdin",
     "output_type": "stream",
     "text": [
      "Give a number:  3090\n"
     ]
    },
    {
     "name": "stdout",
     "output_type": "stream",
     "text": [
      "Prime factors are: [2, 3, 5, 103]\n"
     ]
    }
   ],
   "source": [
    "prime_factorization()"
   ]
  },
  {
   "cell_type": "code",
   "execution_count": null,
   "id": "60f38cf2-05fa-4346-9534-8bedb3af0c1e",
   "metadata": {},
   "outputs": [],
   "source": []
  },
  {
   "cell_type": "code",
   "execution_count": 9,
   "id": "1388d9a2-04b0-40bf-8e68-6848bde4f4a0",
   "metadata": {},
   "outputs": [],
   "source": [
    "def prime_factorization_user_choice():\n",
    "    try:\n",
    "        x = int(input(\"Give a number: \"))\n",
    "        prime_list = []\n",
    "        i = 2\n",
    "        asking = 'yes'\n",
    "        while asking == 'yes':\n",
    "            while x > 1: \n",
    "                if x % i ==0:\n",
    "                    prime_list.append(i)\n",
    "                    x = x//i\n",
    "                    print(f\"Actual prime list is: {prime_list}\")\n",
    "                    asking = input(\"Do you want to continue? yes/no\")\n",
    "                    if asking == 'no':\n",
    "                        break\n",
    "                else:\n",
    "                    i += 1\n",
    "    except ValueError:\n",
    "        print(\"Please enter a valid integer.\")\n",
    "    finally: \n",
    "        print(f\"Prime factors are: {prime_list}\")"
   ]
  },
  {
   "cell_type": "code",
   "execution_count": 11,
   "id": "dd89d30f-5eee-486f-843a-bca7140f8f90",
   "metadata": {},
   "outputs": [
    {
     "name": "stdin",
     "output_type": "stream",
     "text": [
      "Give a number:  3090\n"
     ]
    },
    {
     "name": "stdout",
     "output_type": "stream",
     "text": [
      "Actual prime list is: [2]\n"
     ]
    },
    {
     "name": "stdin",
     "output_type": "stream",
     "text": [
      "Do you want to continue? yes/no yes\n"
     ]
    },
    {
     "name": "stdout",
     "output_type": "stream",
     "text": [
      "Actual prime list is: [2, 3]\n"
     ]
    },
    {
     "name": "stdin",
     "output_type": "stream",
     "text": [
      "Do you want to continue? yes/no no\n"
     ]
    },
    {
     "name": "stdout",
     "output_type": "stream",
     "text": [
      "Prime factors are: [2, 3]\n"
     ]
    }
   ],
   "source": [
    "prime_factorization_user_choice()"
   ]
  },
  {
   "cell_type": "code",
   "execution_count": null,
   "id": "16d6d5f6-4f69-47e4-92ee-4cbdefa4b7b2",
   "metadata": {},
   "outputs": [],
   "source": []
  }
 ],
 "metadata": {
  "kernelspec": {
   "display_name": "Python [conda env:base] *",
   "language": "python",
   "name": "conda-base-py"
  },
  "language_info": {
   "codemirror_mode": {
    "name": "ipython",
    "version": 3
   },
   "file_extension": ".py",
   "mimetype": "text/x-python",
   "name": "python",
   "nbconvert_exporter": "python",
   "pygments_lexer": "ipython3",
   "version": "3.12.7"
  }
 },
 "nbformat": 4,
 "nbformat_minor": 5
}
